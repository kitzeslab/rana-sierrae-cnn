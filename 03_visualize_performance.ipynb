{
 "cells": [
  {
   "cell_type": "markdown",
   "id": "8602fea2-5434-42ee-9c1c-df909878847e",
   "metadata": {},
   "source": [
    "# recreate validation df"
   ]
  },
  {
   "cell_type": "code",
   "execution_count": 42,
   "id": "1925f876-483e-479d-8eb5-f036d232affa",
   "metadata": {},
   "outputs": [],
   "source": [
    "from opensoundscape.audio import Audio\n",
    "from opensoundscape.spectrogram import Spectrogram\n",
    "\n",
    "import numpy as np\n",
    "import pandas as pd\n",
    "from glob import glob\n",
    "from pathlib import Path\n",
    "\n",
    "from matplotlib import pyplot as plt\n",
    "plt.rcParams['figure.figsize']=[15,5] #for big visuals\n",
    "%config InlineBackend.figure_format = 'retina'\n",
    "\n"
   ]
  },
  {
   "cell_type": "markdown",
   "id": "b0197d39-76b1-49c4-b318-324a421d0cf3",
   "metadata": {},
   "source": [
    "# plotting settings"
   ]
  },
  {
   "cell_type": "code",
   "execution_count": 113,
   "id": "acad5087-d9d0-4b23-882f-62a64dcaeff6",
   "metadata": {},
   "outputs": [],
   "source": [
    "from matplotlib import pyplot as plt\n",
    "\n",
    "# create style sheet?\n",
    "# plt.style.use('./styles/sam.mplstyle')\n",
    "\n",
    "small_txt = 7\n",
    "med_txt = 8\n",
    "big_txt = 8\n",
    "# set text sizes\n",
    "plt.rcParams['font.size'] = small_txt\n",
    "plt.rcParams['axes.labelsize'] = med_txt\n",
    "plt.rcParams['axes.titlesize'] = big_txt\n",
    "plt.rcParams['xtick.labelsize'] = small_txt\n",
    "plt.rcParams['ytick.labelsize'] = small_txt\n",
    "plt.rcParams['legend.fontsize'] = med_txt\n",
    "plt.rcParams['figure.titlesize'] = big_txt\n",
    "# opaque legend (<1 is not fully opaque)\n",
    "plt.rcParams[\"legend.framealpha\"] = 1.0\n",
    "# set figure size\n",
    "plt.rcParams['figure.figsize']=[6,2.5]\n",
    "plt.rcParams['figure.dpi'] = 300\n",
    "# set default font\n",
    "# plt.rcParams['font.sans-serif'] = \"Gill Sans\"\n",
    "# plt.rcParams['font.family'] = \"sans-serif\"\n",
    "plt.rcParams['font.sans-serif'] = \"gillsans\"\n",
    "\n",
    "\n",
    "# TIP use these 2 lines to list all available fonts:\n",
    "# from matplotlib import font_manager\n",
    "# font_manager.findSystemFonts(fontpaths=None, fontext=\"ttf\")\n",
    "\n",
    "# to add a font\n",
    "# on linux, add .ttf font files to /usr/share/fonts/truetype/\n",
    "# then follow these instructions https://scentellegher.github.io/visualization/2018/05/02/custom-fonts-matplotlib.html \n",
    "\n",
    "# tell matplotlib to create vector fonts \n",
    "# so you can edit them later! eg in Illustrator\n",
    "plt.rcParams['pdf.fonttype'] = 42\n",
    "plt.rcParams['ps.fonttype'] = 42\n",
    "\n",
    "# plt.rcParams['lines.markersize'] = 1\n",
    "\n",
    "\n",
    "#color and line style cycles #\n",
    "# TIP: use https://coolers.co to create nice color palettes\n",
    "#or modify this one https://coolors.co/35aad8-f3b61f-ba3b54-45b69c-8a96d7\n",
    "from cycler import cycler\n",
    "default_cycler = (cycler(color=['#35aad8','#f3b61f','#8a96d7','#45b69c','#ba3b54']) \n",
    "                  # + cycler(linestyle=['-', '--', '-.', ':','-'])\n",
    "                 )\n",
    "plt.rc('lines', linewidth=0.5)\n",
    "plt.rc('axes', prop_cycle=default_cycler)\n",
    "\n",
    "#use appropriate resolution for retina screens\n",
    "%config InlineBackend.figure_format='retina'"
   ]
  },
  {
   "cell_type": "code",
   "execution_count": null,
   "id": "4c468b9e-ca67-4e64-b712-d0e293bfc14a",
   "metadata": {},
   "outputs": [],
   "source": []
  },
  {
   "cell_type": "code",
   "execution_count": 114,
   "id": "3bee3be8-0c0e-4268-a328-392497d1a48c",
   "metadata": {},
   "outputs": [],
   "source": [
    "from opensoundscape.audio import Audio\n",
    "from opensoundscape.spectrogram import Spectrogram\n",
    "\n",
    "import numpy as np\n",
    "import pandas as pd\n",
    "from glob import glob\n",
    "from pathlib import Path\n",
    "\n",
    "from opensoundscape.torch.models.cnn import CNN\n",
    "from opensoundscape.preprocess.preprocessors import SpectrogramPreprocessor\n",
    "from opensoundscape.data_selection import resample\n",
    "import wandb\n",
    "\n",
    "name = 'm2'\n",
    "\n",
    "# Train on A and V classes, excluding X class\n",
    "\n",
    "labels = pd.read_csv('/media/emu/datasets/labeled/ramu_10s_msd0558/labels_2s.wav')\n",
    "\n",
    "#choose training and validation labels\n",
    "labels['ramu']=np.logical_or(labels.A,labels.V).astype(int)\n",
    "\n",
    "# drop clips with 0 for ramu and 1 for 'X' unsure class\n",
    "labels = labels.drop(labels[(labels.ramu==0) & (labels.X==1)].index)\n",
    "\n",
    "\n",
    "from sklearn.model_selection import train_test_split\n",
    "\n",
    "train_files,val_files = train_test_split(labels.audio_file.unique(),test_size=0.1,random_state=20221208)\n",
    "\n",
    "labels=labels.rename(columns={'audio_file':'file'})\n",
    "labels = labels.set_index('file')\n",
    "train_df = labels.loc[train_files]\n",
    "val_df = labels.loc[val_files]\n",
    "\n",
    "train_df = train_df.reset_index().set_index(['file','start_time','end_time'])[['ramu']]\n",
    "train_df['negative']=1-train_df.ramu\n",
    "val_df = val_df.reset_index().set_index(['file','start_time','end_time'])[['ramu']]\n",
    "val_df['negative']=1-val_df.ramu"
   ]
  },
  {
   "cell_type": "code",
   "execution_count": null,
   "id": "d5716220-f252-4dc3-ae9b-2d2075bd2f9c",
   "metadata": {},
   "outputs": [],
   "source": []
  },
  {
   "cell_type": "markdown",
   "id": "c6bdcc7e-ce30-467c-95e3-e0f2ea60aea6",
   "metadata": {},
   "source": [
    "load csv instead of re-creating scores"
   ]
  },
  {
   "cell_type": "code",
   "execution_count": 115,
   "id": "6798fa07-4ac0-461d-a501-6cc44f872e49",
   "metadata": {},
   "outputs": [],
   "source": [
    "# from opensoundscape.torch.models.cnn import load_model\n",
    "# model = load_model('/media/emu/projects/sml161/ecco12_ramu/trained_models/m2/best.model')\n"
   ]
  },
  {
   "cell_type": "code",
   "execution_count": 116,
   "id": "3cb91413-bf86-4528-86dc-df6194df9207",
   "metadata": {},
   "outputs": [],
   "source": [
    "#scores,_,_ = model.predict(samples=val_df.reset_index().file.values,batch_size=128)"
   ]
  },
  {
   "cell_type": "code",
   "execution_count": 117,
   "id": "d773530e-fb54-47d2-b10b-150c3cc693ce",
   "metadata": {},
   "outputs": [],
   "source": [
    "scores = pd.read_csv('./m2_validation_preds.csv')"
   ]
  },
  {
   "cell_type": "code",
   "execution_count": 118,
   "id": "4b6ad379-744e-471f-ad98-7306dd183938",
   "metadata": {},
   "outputs": [
    {
     "data": {
      "text/html": [
       "<div>\n",
       "<style scoped>\n",
       "    .dataframe tbody tr th:only-of-type {\n",
       "        vertical-align: middle;\n",
       "    }\n",
       "\n",
       "    .dataframe tbody tr th {\n",
       "        vertical-align: top;\n",
       "    }\n",
       "\n",
       "    .dataframe thead th {\n",
       "        text-align: right;\n",
       "    }\n",
       "</style>\n",
       "<table border=\"1\" class=\"dataframe\">\n",
       "  <thead>\n",
       "    <tr style=\"text-align: right;\">\n",
       "      <th></th>\n",
       "      <th>file</th>\n",
       "      <th>start_time</th>\n",
       "      <th>end_time</th>\n",
       "      <th>ramu</th>\n",
       "      <th>negative</th>\n",
       "    </tr>\n",
       "  </thead>\n",
       "  <tbody>\n",
       "    <tr>\n",
       "      <th>0</th>\n",
       "      <td>/media/emu/datasets/labeled/ramu_10s_msd0558/c...</td>\n",
       "      <td>0.0</td>\n",
       "      <td>2.0</td>\n",
       "      <td>-2.104445</td>\n",
       "      <td>1.695426</td>\n",
       "    </tr>\n",
       "    <tr>\n",
       "      <th>1</th>\n",
       "      <td>/media/emu/datasets/labeled/ramu_10s_msd0558/c...</td>\n",
       "      <td>0.5</td>\n",
       "      <td>2.5</td>\n",
       "      <td>-1.770301</td>\n",
       "      <td>1.602344</td>\n",
       "    </tr>\n",
       "    <tr>\n",
       "      <th>2</th>\n",
       "      <td>/media/emu/datasets/labeled/ramu_10s_msd0558/c...</td>\n",
       "      <td>1.0</td>\n",
       "      <td>3.0</td>\n",
       "      <td>-2.209821</td>\n",
       "      <td>1.728228</td>\n",
       "    </tr>\n",
       "    <tr>\n",
       "      <th>3</th>\n",
       "      <td>/media/emu/datasets/labeled/ramu_10s_msd0558/c...</td>\n",
       "      <td>1.5</td>\n",
       "      <td>3.5</td>\n",
       "      <td>-1.620319</td>\n",
       "      <td>1.266714</td>\n",
       "    </tr>\n",
       "    <tr>\n",
       "      <th>4</th>\n",
       "      <td>/media/emu/datasets/labeled/ramu_10s_msd0558/c...</td>\n",
       "      <td>2.0</td>\n",
       "      <td>4.0</td>\n",
       "      <td>-2.055916</td>\n",
       "      <td>1.741811</td>\n",
       "    </tr>\n",
       "  </tbody>\n",
       "</table>\n",
       "</div>"
      ],
      "text/plain": [
       "                                                file  start_time  end_time  \\\n",
       "0  /media/emu/datasets/labeled/ramu_10s_msd0558/c...         0.0       2.0   \n",
       "1  /media/emu/datasets/labeled/ramu_10s_msd0558/c...         0.5       2.5   \n",
       "2  /media/emu/datasets/labeled/ramu_10s_msd0558/c...         1.0       3.0   \n",
       "3  /media/emu/datasets/labeled/ramu_10s_msd0558/c...         1.5       3.5   \n",
       "4  /media/emu/datasets/labeled/ramu_10s_msd0558/c...         2.0       4.0   \n",
       "\n",
       "       ramu  negative  \n",
       "0 -2.104445  1.695426  \n",
       "1 -1.770301  1.602344  \n",
       "2 -2.209821  1.728228  \n",
       "3 -1.620319  1.266714  \n",
       "4 -2.055916  1.741811  "
      ]
     },
     "execution_count": 118,
     "metadata": {},
     "output_type": "execute_result"
    }
   ],
   "source": [
    "scores.head()"
   ]
  },
  {
   "cell_type": "code",
   "execution_count": 119,
   "id": "bc988f68-b667-41ac-883e-297f72b5207e",
   "metadata": {},
   "outputs": [],
   "source": [
    "from torch import softmax, tensor"
   ]
  },
  {
   "cell_type": "code",
   "execution_count": null,
   "id": "8750ca02-bf4e-406d-882b-9ca0d0b32e85",
   "metadata": {},
   "outputs": [],
   "source": []
  },
  {
   "cell_type": "code",
   "execution_count": 120,
   "id": "cf076fbd-6f68-4cd0-a184-cc08d4d8a197",
   "metadata": {},
   "outputs": [],
   "source": [
    "scores['softmax']=softmax(tensor(scores[['ramu','negative']].values),1)[:,0].numpy()"
   ]
  },
  {
   "cell_type": "code",
   "execution_count": 121,
   "id": "5b2570f2-6b12-4040-90af-61eb6ed780d8",
   "metadata": {},
   "outputs": [],
   "source": [
    "scores.to_csv('./m2_validation_preds_w_softmax.csv')"
   ]
  },
  {
   "cell_type": "code",
   "execution_count": 122,
   "id": "06f8550d-471a-4ea1-ad05-1763b0a32b8d",
   "metadata": {},
   "outputs": [],
   "source": [
    "scores = scores.set_index(['file','start_time','end_time'])"
   ]
  },
  {
   "cell_type": "code",
   "execution_count": 123,
   "id": "69d6d3f3-a2b6-4163-812d-5567aba18e72",
   "metadata": {
    "tags": []
   },
   "outputs": [],
   "source": [
    "val_df['score']=scores['softmax']"
   ]
  },
  {
   "cell_type": "code",
   "execution_count": 124,
   "id": "1aa550e1-61ee-4c4a-9cbb-2c7fc85dc873",
   "metadata": {},
   "outputs": [],
   "source": [
    "from sklearn.metrics import precision_recall_curve, average_precision_score, roc_auc_score, auc"
   ]
  },
  {
   "cell_type": "code",
   "execution_count": 125,
   "id": "14b8d50c-4605-445e-9396-b6f866741020",
   "metadata": {},
   "outputs": [
    {
     "data": {
      "text/plain": [
       "1111"
      ]
     },
     "execution_count": 125,
     "metadata": {},
     "output_type": "execute_result"
    }
   ],
   "source": [
    "len(val_df)"
   ]
  },
  {
   "cell_type": "code",
   "execution_count": 126,
   "id": "4c66e595-9788-4827-8285-ba7618c69a09",
   "metadata": {},
   "outputs": [
    {
     "data": {
      "text/plain": [
       "1139"
      ]
     },
     "execution_count": 126,
     "metadata": {},
     "output_type": "execute_result"
    }
   ],
   "source": [
    "len(scores)"
   ]
  },
  {
   "cell_type": "code",
   "execution_count": 127,
   "id": "507cf0e9-9203-46b1-b38b-d3b6f138e86e",
   "metadata": {},
   "outputs": [],
   "source": [
    "p,r,t = precision_recall_curve(val_df.ramu,val_df.score)"
   ]
  },
  {
   "cell_type": "code",
   "execution_count": 128,
   "id": "399175a6-ff74-4f73-88d9-53946fe2e446",
   "metadata": {},
   "outputs": [
    {
     "name": "stdout",
     "output_type": "stream",
     "text": [
      "Average precision: 0.9221555512643238\n",
      "Area under ROC curve: 0.9533535862797061\n",
      "Area under P-R curve: 0.9220479278748017\n"
     ]
    }
   ],
   "source": [
    "print(f\"Average precision: {average_precision_score(val_df.ramu,val_df.score)}\")\n",
    "print(f\"Area under ROC curve: {roc_auc_score(val_df.ramu,val_df.score)}\")\n",
    "print(f\"Area under P-R curve: {auc(r,p)}\")"
   ]
  },
  {
   "cell_type": "code",
   "execution_count": 137,
   "id": "52bbb95b-7115-401e-bf66-f8f9f80860e1",
   "metadata": {},
   "outputs": [
    {
     "name": "stderr",
     "output_type": "stream",
     "text": [
      "'created' timestamp seems very low; regarding as unix timestamp\n",
      "'modified' timestamp seems very low; regarding as unix timestamp\n",
      "too much 'glyf' table data: expected 42820, received 42914 bytes\n",
      "too much 'hmtx' table data\n"
     ]
    },
    {
     "data": {
      "image/png": "[encoded data removed]",
      "text/plain": [
       "<Figure size 600x450 with 1 Axes>"
      ]
     },
     "metadata": {
      "image/png": {
       "height": 510,
       "width": 608
      }
     },
     "output_type": "display_data"
    }
   ],
   "source": [
    "plt.figure(figsize=(2,1.5)) \n",
    "\n",
    "plt.plot(t,p[1:],label='precision')\n",
    "plt.plot(t,r[1:],label='recall')\n",
    "# plt.xlim([0.9,1])\n",
    "plt.xlabel('threshold')\n",
    "plt.legend()\n",
    "# ax plt.semilogx()\n",
    "plt.savefig('./figures/precision_recall_curve.pdf')"
   ]
  },
  {
   "cell_type": "code",
   "execution_count": 89,
   "id": "90227e58-8a4f-4091-99ef-351a13a6f2db",
   "metadata": {},
   "outputs": [
    {
     "data": {
      "image/png": "[encoded data removed]",
      "text/plain": [
       "<Figure size 400x400 with 1 Axes>"
      ]
     },
     "metadata": {
      "image/png": {
       "height": 371,
       "width": 361
      }
     },
     "output_type": "display_data"
    }
   ],
   "source": [
    "# plt.figure(figsize=(4,4)) \n",
    "\n",
    "# plt.plot(t,p[1:],label='precision')\n",
    "# plt.plot(t,r[1:],label='recall')\n",
    "# # plt.xlim([0.9,1])\n",
    "# plt.xlabel('threshold')\n",
    "# plt.legend()\n",
    "# plt.savefig('./figures/precision_recall.pdf')\n",
    "# # ax plt.semilogx()"
   ]
  },
  {
   "cell_type": "code",
   "execution_count": 84,
   "id": "f8cfc8c7-514d-4355-9903-97193c3e8bee",
   "metadata": {
    "collapsed": true,
    "jupyter": {
     "outputs_hidden": true
    },
    "tags": []
   },
   "outputs": [
    {
     "data": {
      "text/html": [
       "<div>\n",
       "<style scoped>\n",
       "    .dataframe tbody tr th:only-of-type {\n",
       "        vertical-align: middle;\n",
       "    }\n",
       "\n",
       "    .dataframe tbody tr th {\n",
       "        vertical-align: top;\n",
       "    }\n",
       "\n",
       "    .dataframe thead th {\n",
       "        text-align: right;\n",
       "    }\n",
       "</style>\n",
       "<table border=\"1\" class=\"dataframe\">\n",
       "  <thead>\n",
       "    <tr style=\"text-align: right;\">\n",
       "      <th></th>\n",
       "      <th>precision</th>\n",
       "      <th>recall</th>\n",
       "      <th>threshold</th>\n",
       "    </tr>\n",
       "  </thead>\n",
       "  <tbody>\n",
       "    <tr>\n",
       "      <th>961</th>\n",
       "      <td>0.979866</td>\n",
       "      <td>0.382199</td>\n",
       "      <td>0.998715</td>\n",
       "    </tr>\n",
       "    <tr>\n",
       "      <th>962</th>\n",
       "      <td>0.979730</td>\n",
       "      <td>0.379581</td>\n",
       "      <td>0.998726</td>\n",
       "    </tr>\n",
       "    <tr>\n",
       "      <th>963</th>\n",
       "      <td>0.979592</td>\n",
       "      <td>0.376963</td>\n",
       "      <td>0.998769</td>\n",
       "    </tr>\n",
       "    <tr>\n",
       "      <th>964</th>\n",
       "      <td>0.979452</td>\n",
       "      <td>0.374346</td>\n",
       "      <td>0.998789</td>\n",
       "    </tr>\n",
       "    <tr>\n",
       "      <th>965</th>\n",
       "      <td>0.979310</td>\n",
       "      <td>0.371728</td>\n",
       "      <td>0.998878</td>\n",
       "    </tr>\n",
       "    <tr>\n",
       "      <th>966</th>\n",
       "      <td>0.979167</td>\n",
       "      <td>0.369110</td>\n",
       "      <td>0.998938</td>\n",
       "    </tr>\n",
       "    <tr>\n",
       "      <th>967</th>\n",
       "      <td>0.979021</td>\n",
       "      <td>0.366492</td>\n",
       "      <td>0.998962</td>\n",
       "    </tr>\n",
       "    <tr>\n",
       "      <th>968</th>\n",
       "      <td>0.978873</td>\n",
       "      <td>0.363874</td>\n",
       "      <td>0.998977</td>\n",
       "    </tr>\n",
       "    <tr>\n",
       "      <th>969</th>\n",
       "      <td>0.978723</td>\n",
       "      <td>0.361257</td>\n",
       "      <td>0.998983</td>\n",
       "    </tr>\n",
       "    <tr>\n",
       "      <th>970</th>\n",
       "      <td>0.978571</td>\n",
       "      <td>0.358639</td>\n",
       "      <td>0.999036</td>\n",
       "    </tr>\n",
       "    <tr>\n",
       "      <th>971</th>\n",
       "      <td>0.978417</td>\n",
       "      <td>0.356021</td>\n",
       "      <td>0.999053</td>\n",
       "    </tr>\n",
       "    <tr>\n",
       "      <th>972</th>\n",
       "      <td>0.978261</td>\n",
       "      <td>0.353403</td>\n",
       "      <td>0.999136</td>\n",
       "    </tr>\n",
       "    <tr>\n",
       "      <th>973</th>\n",
       "      <td>0.985401</td>\n",
       "      <td>0.353403</td>\n",
       "      <td>0.999168</td>\n",
       "    </tr>\n",
       "    <tr>\n",
       "      <th>974</th>\n",
       "      <td>0.985294</td>\n",
       "      <td>0.350785</td>\n",
       "      <td>0.999195</td>\n",
       "    </tr>\n",
       "    <tr>\n",
       "      <th>975</th>\n",
       "      <td>0.985185</td>\n",
       "      <td>0.348168</td>\n",
       "      <td>0.999233</td>\n",
       "    </tr>\n",
       "    <tr>\n",
       "      <th>976</th>\n",
       "      <td>0.985075</td>\n",
       "      <td>0.345550</td>\n",
       "      <td>0.999295</td>\n",
       "    </tr>\n",
       "    <tr>\n",
       "      <th>977</th>\n",
       "      <td>0.984962</td>\n",
       "      <td>0.342932</td>\n",
       "      <td>0.999299</td>\n",
       "    </tr>\n",
       "    <tr>\n",
       "      <th>978</th>\n",
       "      <td>0.984848</td>\n",
       "      <td>0.340314</td>\n",
       "      <td>0.999305</td>\n",
       "    </tr>\n",
       "    <tr>\n",
       "      <th>979</th>\n",
       "      <td>0.992366</td>\n",
       "      <td>0.340314</td>\n",
       "      <td>0.999307</td>\n",
       "    </tr>\n",
       "    <tr>\n",
       "      <th>980</th>\n",
       "      <td>0.992308</td>\n",
       "      <td>0.337696</td>\n",
       "      <td>0.999334</td>\n",
       "    </tr>\n",
       "  </tbody>\n",
       "</table>\n",
       "</div>"
      ],
      "text/plain": [
       "     precision    recall  threshold\n",
       "961   0.979866  0.382199   0.998715\n",
       "962   0.979730  0.379581   0.998726\n",
       "963   0.979592  0.376963   0.998769\n",
       "964   0.979452  0.374346   0.998789\n",
       "965   0.979310  0.371728   0.998878\n",
       "966   0.979167  0.369110   0.998938\n",
       "967   0.979021  0.366492   0.998962\n",
       "968   0.978873  0.363874   0.998977\n",
       "969   0.978723  0.361257   0.998983\n",
       "970   0.978571  0.358639   0.999036\n",
       "971   0.978417  0.356021   0.999053\n",
       "972   0.978261  0.353403   0.999136\n",
       "973   0.985401  0.353403   0.999168\n",
       "974   0.985294  0.350785   0.999195\n",
       "975   0.985185  0.348168   0.999233\n",
       "976   0.985075  0.345550   0.999295\n",
       "977   0.984962  0.342932   0.999299\n",
       "978   0.984848  0.340314   0.999305\n",
       "979   0.992366  0.340314   0.999307\n",
       "980   0.992308  0.337696   0.999334"
      ]
     },
     "execution_count": 84,
     "metadata": {},
     "output_type": "execute_result"
    }
   ],
   "source": [
    "sampled_p_r = pd.DataFrame({'precision':p[1:],'recall':r[1:],'threshold':t})\n",
    "sampled_p_r[-150:-130]"
   ]
  },
  {
   "cell_type": "code",
   "execution_count": 57,
   "id": "0658e121-6d31-4970-8d41-a4358defa413",
   "metadata": {},
   "outputs": [
    {
     "name": "stdout",
     "output_type": "stream",
     "text": [
      "0.951152894590633\n",
      "0.9026845637583892\n",
      "0.7041884816753927\n"
     ]
    }
   ],
   "source": [
    "first_threshold_w_prec09 = np.argmax((p>0.9)[1:]) + 1\n",
    "print(t[first_threshold_w_prec09])\n",
    "print(p[first_threshold_w_prec09])\n",
    "print(r[first_threshold_w_prec09])"
   ]
  },
  {
   "cell_type": "code",
   "execution_count": 59,
   "id": "b4078a9e-f44f-496c-a47c-31084ab81b35",
   "metadata": {},
   "outputs": [
    {
     "name": "stdout",
     "output_type": "stream",
     "text": [
      "0.9928882085210652\n",
      "0.9509803921568627\n",
      "0.5078534031413613\n"
     ]
    }
   ],
   "source": [
    "first_threshold_w_prec095 = np.argmax((p>0.95)[1:]) + 1\n",
    "print(t[first_threshold_w_prec095])\n",
    "print(p[first_threshold_w_prec095])\n",
    "print(r[first_threshold_w_prec095])"
   ]
  },
  {
   "cell_type": "markdown",
   "id": "b291b9cf-79f0-4bb9-8a42-25557eb6cc14",
   "metadata": {},
   "source": [
    "# We choose the threshold 0.99933 for the manuscript, for >99% precision"
   ]
  },
  {
   "cell_type": "code",
   "execution_count": 85,
   "id": "e5ef8655-15bd-4f94-a6ec-811dd70bbdcc",
   "metadata": {},
   "outputs": [
    {
     "name": "stdout",
     "output_type": "stream",
     "text": [
      "0.9993342085091393\n",
      "0.9923664122137404\n",
      "0.3403141361256545\n"
     ]
    }
   ],
   "source": [
    "first_threshold_w_prec099 = np.argmax((p>0.99)[1:]) + 1\n",
    "print(t[first_threshold_w_prec099])\n",
    "print(p[first_threshold_w_prec099])\n",
    "print(r[first_threshold_w_prec099])"
   ]
  },
  {
   "cell_type": "code",
   "execution_count": 142,
   "id": "166402d0-3d80-4679-9889-c6baf8758e9b",
   "metadata": {},
   "outputs": [
    {
     "data": {
      "text/plain": [
       "tensor(4.9380)"
      ]
     },
     "execution_count": 142,
     "metadata": {},
     "output_type": "execute_result"
    }
   ],
   "source": [
    "from torch import logit, sigmoid\n",
    "logit(tensor(0.992882))"
   ]
  },
  {
   "cell_type": "code",
   "execution_count": 86,
   "id": "f3f9647b-d806-4827-b46e-492752e003f7",
   "metadata": {},
   "outputs": [
    {
     "data": {
      "text/plain": [
       "tensor(7.3139)"
      ]
     },
     "execution_count": 86,
     "metadata": {},
     "output_type": "execute_result"
    }
   ],
   "source": [
    "logit(tensor(0.9993342))"
   ]
  },
  {
   "cell_type": "markdown",
   "id": "7c14a444-d398-42fe-92db-b13e6318bc62",
   "metadata": {},
   "source": []
  },
  {
   "cell_type": "markdown",
   "id": "983ec79c-3cc0-4e43-938a-53a7ba8b676b",
   "metadata": {},
   "source": [
    "## precision and recall at thresholds shown in figures"
   ]
  },
  {
   "cell_type": "code",
   "execution_count": 144,
   "id": "edb17d9f-220f-4467-b9f6-7e32ff373714",
   "metadata": {},
   "outputs": [],
   "source": []
  },
  {
   "cell_type": "code",
   "execution_count": 158,
   "id": "8a11b26a-9cae-4a5a-9f18-108891646e23",
   "metadata": {},
   "outputs": [],
   "source": [
    "from sklearn.metrics import precision_recall_fscore_support, precision_score, recall_score"
   ]
  },
  {
   "cell_type": "code",
   "execution_count": 153,
   "id": "a675e28e-1212-49b5-9815-f74426dc00bf",
   "metadata": {},
   "outputs": [
    {
     "data": {
      "text/plain": [
       "0.7069873809814453"
      ]
     },
     "execution_count": 153,
     "metadata": {},
     "output_type": "execute_result"
    }
   ],
   "source": [
    "float(sigmoid(thresholds[0]))"
   ]
  },
  {
   "cell_type": "code",
   "execution_count": 156,
   "id": "925cf299-83a9-48a8-a674-ed7bec53668d",
   "metadata": {},
   "outputs": [
    {
     "data": {
      "text/plain": [
       "10"
      ]
     },
     "execution_count": 156,
     "metadata": {},
     "output_type": "execute_result"
    }
   ],
   "source": [
    "t"
   ]
  },
  {
   "cell_type": "code",
   "execution_count": null,
   "id": "632cb4da-e5ef-4b46-b1cb-276b611ab2de",
   "metadata": {},
   "outputs": [],
   "source": []
  },
  {
   "cell_type": "code",
   "execution_count": 160,
   "id": "69834bae-713a-45cf-97b6-51c16c662b2e",
   "metadata": {},
   "outputs": [
    {
     "data": {
      "text/plain": [
       "0.8820058997050148"
      ]
     },
     "execution_count": 160,
     "metadata": {},
     "output_type": "execute_result"
    }
   ],
   "source": []
  },
  {
   "cell_type": "code",
   "execution_count": 163,
   "id": "ba221f85-ccba-44d3-ad7e-aae8ccab3506",
   "metadata": {},
   "outputs": [
    {
     "name": "stdout",
     "output_type": "stream",
     "text": [
      "threshold: 0 prec 0.8235294117647058 rec 0.8795811518324608\n",
      "threshold: 2 prec 0.8820058997050148 rec 0.7827225130890052\n",
      "threshold: 4 prec 0.9259259259259259 rec 0.5890052356020943\n",
      "threshold: 6 prec 0.9821428571428571 rec 0.4319371727748691\n",
      "threshold: 8 prec 1.0 rec 0.25654450261780104\n",
      "threshold: 10 prec 1.0 rec 0.14659685863874344\n"
     ]
    }
   ],
   "source": [
    "thresholds = [0,2,4,6,8,10]\n",
    "for t in thresholds:\n",
    "    th = float(sigmoid(tensor(t)))\n",
    "    print(f\"threshold: {t} prec {precision_score(val_df.ramu, (val_df.score>th))} rec {recall_score(val_df.ramu, (val_df.score>th))}\")"
   ]
  },
  {
   "cell_type": "code",
   "execution_count": null,
   "id": "5918c242-302f-4d43-a8e4-07dea2004964",
   "metadata": {},
   "outputs": [],
   "source": []
  }
 ],
 "metadata": {
  "kernelspec": {
   "display_name": "opso_dev",
   "language": "python",
   "name": "opso_dev"
  },
  "language_info": {
   "codemirror_mode": {
    "name": "ipython",
    "version": 3
   },
   "file_extension": ".py",
   "mimetype": "text/x-python",
   "name": "python",
   "nbconvert_exporter": "python",
   "pygments_lexer": "ipython3",
   "version": "3.9.15"
  }
 },
 "nbformat": 4,
 "nbformat_minor": 5
}

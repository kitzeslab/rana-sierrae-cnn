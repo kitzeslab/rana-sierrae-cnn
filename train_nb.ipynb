{
 "cells": [
  {
   "cell_type": "markdown",
   "id": "e7db1564-644c-4be9-a5c0-c9cbe3198c6b",
   "metadata": {},
   "source": [
    "# Train a CNN with MSD-0558 annotations\n"
   ]
  },
  {
   "cell_type": "code",
   "execution_count": 1,
   "id": "760f67c7-4150-44a5-b30c-dd44cf277509",
   "metadata": {},
   "outputs": [],
   "source": [
    "from opensoundscape.audio import Audio\n",
    "from opensoundscape.spectrogram import Spectrogram\n",
    "\n",
    "import numpy as np\n",
    "import pandas as pd\n",
    "from glob import glob\n",
    "from pathlib import Path\n",
    "\n",
    "from matplotlib import pyplot as plt\n",
    "plt.rcParams['figure.figsize']=[15,5] #for big visuals\n",
    "%config InlineBackend.figure_format = 'retina'\n",
    "\n",
    "from opensoundscape.torch.models.cnn import CNN\n",
    "from opensoundscape.preprocess.preprocessors import SpectrogramPreprocessor"
   ]
  },
  {
   "cell_type": "markdown",
   "id": "b45412eb-4187-4cfd-81ec-68277c22d65e",
   "metadata": {},
   "source": [
    "## Train CNN on just A+V class, excluding X class"
   ]
  },
  {
   "cell_type": "code",
   "execution_count": 37,
   "id": "ce27a441-88bf-424b-8271-ec54cc4fbfe2",
   "metadata": {},
   "outputs": [],
   "source": []
  },
  {
   "cell_type": "code",
   "execution_count": 49,
   "id": "45889e1a-feb1-49dc-8875-306c4863faac",
   "metadata": {},
   "outputs": [],
   "source": [
    "labels = pd.read_csv('/media/emu/datasets/labeled/ramu_10s_msd0558/labels_2s.wav')\n",
    "\n",
    "#choose training and validation labels\n",
    "labels['ramu']=np.logical_or(labels.A,labels.V).astype(int)\n",
    "\n",
    "# drop clips with 0 for ramu and 1 for 'X' unsure class\n",
    "labels = labels.drop(labels[(labels.ramu==0) & (labels.X==1)].index)\n",
    "\n",
    "\n",
    "from sklearn.model_selection import train_test_split\n",
    "\n",
    "train_files,val_files = train_test_split(labels.audio_file.unique(),test_size=0.2,random_state=20221208)\n",
    "\n",
    "labels = labels.set_index('audio_file')\n",
    "train_df = labels.loc[train_files]\n",
    "val_df = labels.loc[val_files]\n",
    "\n",
    "train_df = train_df.reset_index().set_index(['audio_file','start_time','end_time'])[['ramu']]\n",
    "val_df = val_df.reset_index().set_index(['audio_file','start_time','end_time'])[['ramu']]"
   ]
  }
 ],
 "metadata": {
  "kernelspec": {
   "display_name": "opso_dev",
   "language": "python",
   "name": "opso_dev"
  },
  "language_info": {
   "codemirror_mode": {
    "name": "ipython",
    "version": 3
   },
   "file_extension": ".py",
   "mimetype": "text/x-python",
   "name": "python",
   "nbconvert_exporter": "python",
   "pygments_lexer": "ipython3",
   "version": "3.9.15"
  }
 },
 "nbformat": 4,
 "nbformat_minor": 5
}
